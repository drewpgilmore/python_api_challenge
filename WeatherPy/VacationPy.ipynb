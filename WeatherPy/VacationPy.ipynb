{
 "cells": [
  {
   "cell_type": "markdown",
   "metadata": {},
   "source": [
    "# VacationPy\n",
    "----\n",
    "\n",
    "#### Note\n",
    "* Instructions have been included for each segment. You do not have to follow them exactly, but they are included to help you think through the steps."
   ]
  },
  {
   "cell_type": "code",
   "execution_count": 1,
   "metadata": {},
   "outputs": [],
   "source": [
    "# Dependencies and Setup\n",
    "import matplotlib.pyplot as plt\n",
    "import pandas as pd\n",
    "import numpy as np\n",
    "import requests\n",
    "import gmaps\n",
    "import os\n",
    "import json\n",
    "from pprint import pprint\n",
    "\n",
    "# Import API key\n",
    "from api_keys import g_key"
   ]
  },
  {
   "cell_type": "markdown",
   "metadata": {},
   "source": [
    "### Store Part I results into DataFrame\n",
    "* Load the csv exported in Part I to a DataFrame"
   ]
  },
  {
   "cell_type": "code",
   "execution_count": 29,
   "metadata": {
    "tags": []
   },
   "outputs": [
    {
     "output_type": "execute_result",
     "data": {
      "text/plain": "            City  Latitude  Longitude  Temperature (F)  Humidity (%)  \\\n0          Kapaa     22.08    -159.32           75.200          0.88   \n1       Tasiilaq     65.61     -37.64           41.000          0.86   \n2        Rikitea    -23.12    -134.97           72.788          0.84   \n3        Isangel    -19.55     169.27           78.800          0.69   \n4          Lagoa     39.05     -27.98           67.964          0.78   \n..           ...       ...        ...              ...           ...   \n560      Fortuna     40.60    -124.16           53.006          0.93   \n561    Takoradze      4.88      -1.76           73.796          0.88   \n562        Farim     12.48     -15.22           75.398          0.93   \n563  Pundaguitan      6.37     126.17           84.632          0.66   \n564   San Rafael    -34.62     -68.33           39.740          0.71   \n\n     Cloudiness (%)  Wind Speed (mph) Country        Date  \n0              0.90             10.80      US  1594707408  \n1              0.38              4.10      GL  1594707423  \n2              1.00              7.15      PF  1594707407  \n3              0.75              2.60      VU  1594707440  \n4              0.13              2.53      PT  1594707588  \n..              ...               ...     ...         ...  \n560            0.01              0.27      US  1594707427  \n561            0.25              4.43      GH  1594707728  \n562            0.96              2.23      GW  1594707728  \n563            0.05              1.72      PH  1594707728  \n564            0.57              1.51      AR  1594707691  \n\n[565 rows x 9 columns]",
      "text/html": "<div>\n<style scoped>\n    .dataframe tbody tr th:only-of-type {\n        vertical-align: middle;\n    }\n\n    .dataframe tbody tr th {\n        vertical-align: top;\n    }\n\n    .dataframe thead th {\n        text-align: right;\n    }\n</style>\n<table border=\"1\" class=\"dataframe\">\n  <thead>\n    <tr style=\"text-align: right;\">\n      <th></th>\n      <th>City</th>\n      <th>Latitude</th>\n      <th>Longitude</th>\n      <th>Temperature (F)</th>\n      <th>Humidity (%)</th>\n      <th>Cloudiness (%)</th>\n      <th>Wind Speed (mph)</th>\n      <th>Country</th>\n      <th>Date</th>\n    </tr>\n  </thead>\n  <tbody>\n    <tr>\n      <th>0</th>\n      <td>Kapaa</td>\n      <td>22.08</td>\n      <td>-159.32</td>\n      <td>75.200</td>\n      <td>0.88</td>\n      <td>0.90</td>\n      <td>10.80</td>\n      <td>US</td>\n      <td>1594707408</td>\n    </tr>\n    <tr>\n      <th>1</th>\n      <td>Tasiilaq</td>\n      <td>65.61</td>\n      <td>-37.64</td>\n      <td>41.000</td>\n      <td>0.86</td>\n      <td>0.38</td>\n      <td>4.10</td>\n      <td>GL</td>\n      <td>1594707423</td>\n    </tr>\n    <tr>\n      <th>2</th>\n      <td>Rikitea</td>\n      <td>-23.12</td>\n      <td>-134.97</td>\n      <td>72.788</td>\n      <td>0.84</td>\n      <td>1.00</td>\n      <td>7.15</td>\n      <td>PF</td>\n      <td>1594707407</td>\n    </tr>\n    <tr>\n      <th>3</th>\n      <td>Isangel</td>\n      <td>-19.55</td>\n      <td>169.27</td>\n      <td>78.800</td>\n      <td>0.69</td>\n      <td>0.75</td>\n      <td>2.60</td>\n      <td>VU</td>\n      <td>1594707440</td>\n    </tr>\n    <tr>\n      <th>4</th>\n      <td>Lagoa</td>\n      <td>39.05</td>\n      <td>-27.98</td>\n      <td>67.964</td>\n      <td>0.78</td>\n      <td>0.13</td>\n      <td>2.53</td>\n      <td>PT</td>\n      <td>1594707588</td>\n    </tr>\n    <tr>\n      <th>...</th>\n      <td>...</td>\n      <td>...</td>\n      <td>...</td>\n      <td>...</td>\n      <td>...</td>\n      <td>...</td>\n      <td>...</td>\n      <td>...</td>\n      <td>...</td>\n    </tr>\n    <tr>\n      <th>560</th>\n      <td>Fortuna</td>\n      <td>40.60</td>\n      <td>-124.16</td>\n      <td>53.006</td>\n      <td>0.93</td>\n      <td>0.01</td>\n      <td>0.27</td>\n      <td>US</td>\n      <td>1594707427</td>\n    </tr>\n    <tr>\n      <th>561</th>\n      <td>Takoradze</td>\n      <td>4.88</td>\n      <td>-1.76</td>\n      <td>73.796</td>\n      <td>0.88</td>\n      <td>0.25</td>\n      <td>4.43</td>\n      <td>GH</td>\n      <td>1594707728</td>\n    </tr>\n    <tr>\n      <th>562</th>\n      <td>Farim</td>\n      <td>12.48</td>\n      <td>-15.22</td>\n      <td>75.398</td>\n      <td>0.93</td>\n      <td>0.96</td>\n      <td>2.23</td>\n      <td>GW</td>\n      <td>1594707728</td>\n    </tr>\n    <tr>\n      <th>563</th>\n      <td>Pundaguitan</td>\n      <td>6.37</td>\n      <td>126.17</td>\n      <td>84.632</td>\n      <td>0.66</td>\n      <td>0.05</td>\n      <td>1.72</td>\n      <td>PH</td>\n      <td>1594707728</td>\n    </tr>\n    <tr>\n      <th>564</th>\n      <td>San Rafael</td>\n      <td>-34.62</td>\n      <td>-68.33</td>\n      <td>39.740</td>\n      <td>0.71</td>\n      <td>0.57</td>\n      <td>1.51</td>\n      <td>AR</td>\n      <td>1594707691</td>\n    </tr>\n  </tbody>\n</table>\n<p>565 rows × 9 columns</p>\n</div>"
     },
     "metadata": {},
     "execution_count": 29
    }
   ],
   "source": [
    "file = 'output_data/cities.csv'\n",
    "cities = pd.read_csv(file)\n",
    "cities"
   ]
  },
  {
   "cell_type": "markdown",
   "metadata": {},
   "source": [
    "### Humidity Heatmap\n",
    "* Configure gmaps.\n",
    "* Use the Lat and Lng as locations and Humidity as the weight.\n",
    "* Add Heatmap layer to map."
   ]
  },
  {
   "cell_type": "code",
   "execution_count": 34,
   "metadata": {},
   "outputs": [
    {
     "output_type": "display_data",
     "data": {
      "text/plain": "Figure(layout=FigureLayout(height='420px'))",
      "application/vnd.jupyter.widget-view+json": {
       "version_major": 2,
       "version_minor": 0,
       "model_id": "b0c4a423d16a437ab8795a023013133c"
      }
     },
     "metadata": {}
    }
   ],
   "source": [
    "gmaps.configure(api_key=g_key)\n",
    "locations = cities[[\"Latitude\", \"Longitude\"]].astype(float)\n",
    "humidity = cities[\"Humidity (%)\"].astype(float)\n",
    "\n",
    "fig = gmaps.figure(center=(0, 0), zoom_level=1.5)\n",
    "\n",
    "heat_layer = gmaps.heatmap_layer(\n",
    "    locations, \n",
    "    weights=humidity, \n",
    "    dissipating=False, \n",
    "    max_intensity=1,\n",
    "    point_radius=1\n",
    "    )\n",
    "\n",
    "fig.add_layer(heat_layer)\n",
    "fig"
   ]
  },
  {
   "cell_type": "markdown",
   "metadata": {},
   "source": [
    "### Create new DataFrame fitting weather criteria\n",
    "* Narrow down the cities to fit weather conditions.\n",
    "* Drop any rows will null values."
   ]
  },
  {
   "cell_type": "code",
   "execution_count": 35,
   "metadata": {},
   "outputs": [
    {
     "output_type": "execute_result",
     "data": {
      "text/plain": "    index         City  Latitude  Longitude  Temperature (F)  Humidity (%)  \\\n0       8    Saskylakh     71.92     114.08           74.696          0.34   \n1      18     Khatanga     71.97     102.50           74.048          0.38   \n2      29    Ekibastuz     51.67      75.37           80.726          0.43   \n3      41  Yerbogachën     61.28     108.01           79.268          0.43   \n4      46         Aksu     41.12      80.26           81.806          0.31   \n..    ...          ...       ...        ...              ...           ...   \n67    522         Faya     18.39      42.45           75.200          0.29   \n68    548  Verkhoyansk     67.54     133.38           73.508          0.41   \n69    549        Ubari     26.59      12.78           75.920          0.36   \n70    550      Qandala     11.47      49.87           92.804          0.46   \n71    559      Chifeng     42.27     118.96           84.704          0.34   \n\n    Cloudiness (%)  Wind Speed (mph) Country        Date  \n0             0.45              3.92      RU  1594707124  \n1             0.89              2.94      RU  1594707413  \n2             0.03              4.96      KZ  1594707594  \n3             0.78              2.01      RU  1594707597  \n4             0.98              2.11      CN  1594707480  \n..             ...               ...     ...         ...  \n67            0.13              2.60      SA  1594707717  \n68            0.85              8.20      RU  1594707724  \n69            0.00              4.55      LY  1594707725  \n70            0.61              2.30      SO  1594707726  \n71            1.00              3.50      CN  1594707303  \n\n[72 rows x 10 columns]",
      "text/html": "<div>\n<style scoped>\n    .dataframe tbody tr th:only-of-type {\n        vertical-align: middle;\n    }\n\n    .dataframe tbody tr th {\n        vertical-align: top;\n    }\n\n    .dataframe thead th {\n        text-align: right;\n    }\n</style>\n<table border=\"1\" class=\"dataframe\">\n  <thead>\n    <tr style=\"text-align: right;\">\n      <th></th>\n      <th>index</th>\n      <th>City</th>\n      <th>Latitude</th>\n      <th>Longitude</th>\n      <th>Temperature (F)</th>\n      <th>Humidity (%)</th>\n      <th>Cloudiness (%)</th>\n      <th>Wind Speed (mph)</th>\n      <th>Country</th>\n      <th>Date</th>\n    </tr>\n  </thead>\n  <tbody>\n    <tr>\n      <th>0</th>\n      <td>8</td>\n      <td>Saskylakh</td>\n      <td>71.92</td>\n      <td>114.08</td>\n      <td>74.696</td>\n      <td>0.34</td>\n      <td>0.45</td>\n      <td>3.92</td>\n      <td>RU</td>\n      <td>1594707124</td>\n    </tr>\n    <tr>\n      <th>1</th>\n      <td>18</td>\n      <td>Khatanga</td>\n      <td>71.97</td>\n      <td>102.50</td>\n      <td>74.048</td>\n      <td>0.38</td>\n      <td>0.89</td>\n      <td>2.94</td>\n      <td>RU</td>\n      <td>1594707413</td>\n    </tr>\n    <tr>\n      <th>2</th>\n      <td>29</td>\n      <td>Ekibastuz</td>\n      <td>51.67</td>\n      <td>75.37</td>\n      <td>80.726</td>\n      <td>0.43</td>\n      <td>0.03</td>\n      <td>4.96</td>\n      <td>KZ</td>\n      <td>1594707594</td>\n    </tr>\n    <tr>\n      <th>3</th>\n      <td>41</td>\n      <td>Yerbogachën</td>\n      <td>61.28</td>\n      <td>108.01</td>\n      <td>79.268</td>\n      <td>0.43</td>\n      <td>0.78</td>\n      <td>2.01</td>\n      <td>RU</td>\n      <td>1594707597</td>\n    </tr>\n    <tr>\n      <th>4</th>\n      <td>46</td>\n      <td>Aksu</td>\n      <td>41.12</td>\n      <td>80.26</td>\n      <td>81.806</td>\n      <td>0.31</td>\n      <td>0.98</td>\n      <td>2.11</td>\n      <td>CN</td>\n      <td>1594707480</td>\n    </tr>\n    <tr>\n      <th>...</th>\n      <td>...</td>\n      <td>...</td>\n      <td>...</td>\n      <td>...</td>\n      <td>...</td>\n      <td>...</td>\n      <td>...</td>\n      <td>...</td>\n      <td>...</td>\n      <td>...</td>\n    </tr>\n    <tr>\n      <th>67</th>\n      <td>522</td>\n      <td>Faya</td>\n      <td>18.39</td>\n      <td>42.45</td>\n      <td>75.200</td>\n      <td>0.29</td>\n      <td>0.13</td>\n      <td>2.60</td>\n      <td>SA</td>\n      <td>1594707717</td>\n    </tr>\n    <tr>\n      <th>68</th>\n      <td>548</td>\n      <td>Verkhoyansk</td>\n      <td>67.54</td>\n      <td>133.38</td>\n      <td>73.508</td>\n      <td>0.41</td>\n      <td>0.85</td>\n      <td>8.20</td>\n      <td>RU</td>\n      <td>1594707724</td>\n    </tr>\n    <tr>\n      <th>69</th>\n      <td>549</td>\n      <td>Ubari</td>\n      <td>26.59</td>\n      <td>12.78</td>\n      <td>75.920</td>\n      <td>0.36</td>\n      <td>0.00</td>\n      <td>4.55</td>\n      <td>LY</td>\n      <td>1594707725</td>\n    </tr>\n    <tr>\n      <th>70</th>\n      <td>550</td>\n      <td>Qandala</td>\n      <td>11.47</td>\n      <td>49.87</td>\n      <td>92.804</td>\n      <td>0.46</td>\n      <td>0.61</td>\n      <td>2.30</td>\n      <td>SO</td>\n      <td>1594707726</td>\n    </tr>\n    <tr>\n      <th>71</th>\n      <td>559</td>\n      <td>Chifeng</td>\n      <td>42.27</td>\n      <td>118.96</td>\n      <td>84.704</td>\n      <td>0.34</td>\n      <td>1.00</td>\n      <td>3.50</td>\n      <td>CN</td>\n      <td>1594707303</td>\n    </tr>\n  </tbody>\n</table>\n<p>72 rows × 10 columns</p>\n</div>"
     },
     "metadata": {},
     "execution_count": 35
    }
   ],
   "source": [
    "#Narrow down the cities to fit weather conditions.\n",
    "ideal_weather = cities[(cities['Temperature (F)'] > 70) & (cities['Humidity (%)'] < .5)].reset_index()\n",
    "#Drop any rows will null values.\n",
    "ideal_weather.dropna(inplace = True)\n",
    "ideal_weather"
   ]
  },
  {
   "cell_type": "markdown",
   "metadata": {},
   "source": [
    "### Hotel Map\n",
    "* Store into variable named `hotel_df`.\n",
    "* Add a \"Hotel Name\" column to the DataFrame.\n",
    "* Set parameters to search for hotels with 5000 meters.\n",
    "* Hit the Google Places API for each city's coordinates.\n",
    "* Store the first Hotel result into the DataFrame.\n",
    "* Plot markers on top of the heatmap."
   ]
  },
  {
   "cell_type": "code",
   "execution_count": 54,
   "metadata": {},
   "outputs": [],
   "source": [
    "#Store into variable named hotel_df.\n",
    "hotel_df = ideal_weather\n",
    "\n",
    "#Add a \"Hotel Name\" column to the DataFrame.\n",
    "hotel_df['Hotel Name'] = \"\"\n",
    "hotel_df['Hotel Lat'] = \"\"\n",
    "hotel_df['Hotel Lng'] = \"\"\n",
    "\n",
    "#Set parameters to search for hotels with 5000 meters.\n",
    "radius = 5000"
   ]
  },
  {
   "cell_type": "code",
   "execution_count": 70,
   "metadata": {
    "tags": []
   },
   "outputs": [],
   "source": [
    "#Hit the Google Places API for each city's coordinates.\n",
    "base_url = \"https://maps.googleapis.com/maps/api/place/nearbysearch/json\"\n",
    "\n",
    "# use iterrows to iterate through pandas dataframe\n",
    "for index, row in hotel_df.iterrows():\n",
    "\n",
    "    # get location from df\n",
    "    lat = row['Latitude']\n",
    "    lng = row['Longitude'] \n",
    "    \n",
    "    params = {\n",
    "    \"location\": f'{lat},{lng}',\n",
    "    \"radius\": radius,\n",
    "    \"type\": \"lodging\",\n",
    "    \"key\": g_key,\n",
    "    }\n",
    "\n",
    "    # assemble url and make API request\n",
    "    response = requests.get(base_url, params=params).json()\n",
    "    \n",
    "    # extract results\n",
    "    results = response['results']\n",
    "    \n",
    "    #Store the first Hotel result into the DataFrame.j\n",
    "    try:        \n",
    "        hotel_df.loc[index, 'Hotel Name'] = results[0]['name']\n",
    "        hotel_df.loc[index, 'Hotel Lat'] = results[0]['geometry']['location']['lat']\n",
    "        hotel_df.loc[index, 'Hotel Lng'] = results[0]['geometry']['location']['lng']\n",
    "        \n",
    "    except (KeyError, IndexError):\n",
    "        hotel_df.loc[index, 'Hotel Name'] = 'None found'\n",
    "        pass\n",
    "\n",
    "hotel_df = hotel_df[hotel_df['Hotel Name'] != 'None found'].head(10)"
   ]
  },
  {
   "cell_type": "code",
   "execution_count": 71,
   "metadata": {},
   "outputs": [],
   "source": [
    "#Plot markers on top of the heatmap.\n",
    "gmaps.configure(api_key=g_key)\n",
    "hotel_locations = hotel_df[[\"Hotel Lat\", \"Hotel Lng\"]]\n"
   ]
  },
  {
   "cell_type": "code",
   "execution_count": 72,
   "metadata": {},
   "outputs": [],
   "source": [
    "# NOTE: Do not change any of the code in this cell\n",
    "\n",
    "# Using the template add the hotel marks to the heatmap\n",
    "info_box_template = \"\"\"\n",
    "<dl>\n",
    "<dt>Name</dt><dd>{Hotel Name}</dd>\n",
    "<dt>City</dt><dd>{City}</dd>\n",
    "<dt>Country</dt><dd>{Country}</dd>\n",
    "</dl>\n",
    "\"\"\"\n",
    "# Store the DataFrame Row\n",
    "# NOTE: be sure to update with your DataFrame name\n",
    "hotel_info = [info_box_template.format(**row) for index, row in hotel_df.iterrows()]\n",
    "locations = hotel_df[[\"Hotel Lat\", \"Hotel Lng\"]]"
   ]
  },
  {
   "cell_type": "code",
   "execution_count": 74,
   "metadata": {
    "tags": []
   },
   "outputs": [
    {
     "output_type": "display_data",
     "data": {
      "text/plain": "Figure(layout=FigureLayout(height='420px'))",
      "application/vnd.jupyter.widget-view+json": {
       "version_major": 2,
       "version_minor": 0,
       "model_id": "b0c4a423d16a437ab8795a023013133c"
      }
     },
     "metadata": {}
    }
   ],
   "source": [
    "# Add marker layer ontop of heat map\n",
    "hotel_markers = gmaps.marker_layer(hotel_locations, info_box_content=hotel_info)\n",
    "fig.add_layer(hotel_markers)\n",
    "\n",
    "# Display figure\n",
    "fig"
   ]
  }
 ],
 "metadata": {
  "kernelspec": {
   "display_name": "Python 3.6.10 64-bit ('PythonData': conda)",
   "language": "python",
   "name": "python361064bitpythondataconda992fc1ae3b7c4604b7171c55419ec128"
  },
  "language_info": {
   "codemirror_mode": {
    "name": "ipython",
    "version": 3
   },
   "file_extension": ".py",
   "mimetype": "text/x-python",
   "name": "python",
   "nbconvert_exporter": "python",
   "pygments_lexer": "ipython3",
   "version": "3.6.10-final"
  },
  "latex_envs": {
   "LaTeX_envs_menu_present": true,
   "autoclose": false,
   "autocomplete": true,
   "bibliofile": "biblio.bib",
   "cite_by": "apalike",
   "current_citInitial": 1,
   "eqLabelWithNumbers": true,
   "eqNumInitial": 1,
   "hotkeys": {
    "equation": "Ctrl-E",
    "itemize": "Ctrl-I"
   },
   "labels_anchors": false,
   "latex_user_defs": false,
   "report_style_numbering": false,
   "user_envs_cfg": false
  }
 },
 "nbformat": 4,
 "nbformat_minor": 2
}