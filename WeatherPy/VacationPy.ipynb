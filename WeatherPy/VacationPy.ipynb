{
 "cells": [
  {
   "cell_type": "markdown",
   "metadata": {},
   "source": [
    "# VacationPy\n",
    "----\n",
    "\n",
    "#### Note\n",
    "* Instructions have been included for each segment. You do not have to follow them exactly, but they are included to help you think through the steps."
   ]
  },
  {
   "cell_type": "code",
   "execution_count": 15,
   "metadata": {},
   "outputs": [],
   "source": [
    "# Dependencies and Setup\n",
    "import matplotlib.pyplot as plt\n",
    "import pandas as pd\n",
    "import numpy as np\n",
    "import requests\n",
    "import gmaps\n",
    "import os\n",
    "import json\n",
    "from pprint import pprint\n",
    "\n",
    "# Import API key\n",
    "from api_keys import g_key"
   ]
  },
  {
   "cell_type": "markdown",
   "metadata": {},
   "source": [
    "### Store Part I results into DataFrame\n",
    "* Load the csv exported in Part I to a DataFrame"
   ]
  },
  {
   "cell_type": "code",
   "execution_count": 16,
   "metadata": {
    "tags": []
   },
   "outputs": [
    {
     "output_type": "execute_result",
     "data": {
      "text/plain": "           City  Latitude  Longitude  Temperature  Humidity  Cloudiness  \\\n0    Nikolskoye     59.70      30.79        14.00        87          40   \n1  Vangaindrano    -23.35      47.60        20.09        90          88   \n2       Qaanaaq     77.48     -69.36         7.87        57           5   \n3        Albany     42.60     -73.97        28.89        75         100   \n4         Sabha     27.04      14.43        32.04        18           0   \n\n   Wind Speed Country        Date  \n0        3.00      RU  1594408901  \n1        4.15      MG  1594408901  \n2        1.39      GL  1594408901  \n3        3.74      US  1594408809  \n4        5.35      LY  1594408902  ",
      "text/html": "<div>\n<style scoped>\n    .dataframe tbody tr th:only-of-type {\n        vertical-align: middle;\n    }\n\n    .dataframe tbody tr th {\n        vertical-align: top;\n    }\n\n    .dataframe thead th {\n        text-align: right;\n    }\n</style>\n<table border=\"1\" class=\"dataframe\">\n  <thead>\n    <tr style=\"text-align: right;\">\n      <th></th>\n      <th>City</th>\n      <th>Latitude</th>\n      <th>Longitude</th>\n      <th>Temperature</th>\n      <th>Humidity</th>\n      <th>Cloudiness</th>\n      <th>Wind Speed</th>\n      <th>Country</th>\n      <th>Date</th>\n    </tr>\n  </thead>\n  <tbody>\n    <tr>\n      <th>0</th>\n      <td>Nikolskoye</td>\n      <td>59.70</td>\n      <td>30.79</td>\n      <td>14.00</td>\n      <td>87</td>\n      <td>40</td>\n      <td>3.00</td>\n      <td>RU</td>\n      <td>1594408901</td>\n    </tr>\n    <tr>\n      <th>1</th>\n      <td>Vangaindrano</td>\n      <td>-23.35</td>\n      <td>47.60</td>\n      <td>20.09</td>\n      <td>90</td>\n      <td>88</td>\n      <td>4.15</td>\n      <td>MG</td>\n      <td>1594408901</td>\n    </tr>\n    <tr>\n      <th>2</th>\n      <td>Qaanaaq</td>\n      <td>77.48</td>\n      <td>-69.36</td>\n      <td>7.87</td>\n      <td>57</td>\n      <td>5</td>\n      <td>1.39</td>\n      <td>GL</td>\n      <td>1594408901</td>\n    </tr>\n    <tr>\n      <th>3</th>\n      <td>Albany</td>\n      <td>42.60</td>\n      <td>-73.97</td>\n      <td>28.89</td>\n      <td>75</td>\n      <td>100</td>\n      <td>3.74</td>\n      <td>US</td>\n      <td>1594408809</td>\n    </tr>\n    <tr>\n      <th>4</th>\n      <td>Sabha</td>\n      <td>27.04</td>\n      <td>14.43</td>\n      <td>32.04</td>\n      <td>18</td>\n      <td>0</td>\n      <td>5.35</td>\n      <td>LY</td>\n      <td>1594408902</td>\n    </tr>\n  </tbody>\n</table>\n</div>"
     },
     "metadata": {},
     "execution_count": 16
    }
   ],
   "source": [
    "file = 'output_data/cities.csv'\n",
    "cities = pd.read_csv(file)\n",
    "cities.head()"
   ]
  },
  {
   "cell_type": "markdown",
   "metadata": {},
   "source": [
    "### Humidity Heatmap\n",
    "* Configure gmaps.\n",
    "* Use the Lat and Lng as locations and Humidity as the weight.\n",
    "* Add Heatmap layer to map."
   ]
  },
  {
   "cell_type": "code",
   "execution_count": 17,
   "metadata": {},
   "outputs": [
    {
     "output_type": "display_data",
     "data": {
      "text/plain": "Figure(layout=FigureLayout(height='420px'))",
      "application/vnd.jupyter.widget-view+json": {
       "version_major": 2,
       "version_minor": 0,
       "model_id": "c8459994350e48ceadf05112a13ef39f"
      }
     },
     "metadata": {}
    }
   ],
   "source": [
    "gmaps.configure(api_key=g_key)\n",
    "locations = cities[[\"Latitude\", \"Longitude\"]].astype(float)\n",
    "humidity = cities[\"Humidity\"].astype(float)\n",
    "\n",
    "fig = gmaps.figure()\n",
    "\n",
    "heat_layer = gmaps.heatmap_layer(\n",
    "    locations, \n",
    "    weights=humidity, \n",
    "    dissipating=False, \n",
    "    max_intensity=100,\n",
    "    point_radius = 1\n",
    "    )\n",
    "\n",
    "fig.add_layer(heat_layer)\n",
    "fig"
   ]
  },
  {
   "cell_type": "code",
   "execution_count": null,
   "metadata": {},
   "outputs": [],
   "source": []
  },
  {
   "cell_type": "markdown",
   "metadata": {},
   "source": [
    "### Create new DataFrame fitting weather criteria\n",
    "* Narrow down the cities to fit weather conditions.\n",
    "* Drop any rows will null values."
   ]
  },
  {
   "cell_type": "code",
   "execution_count": 18,
   "metadata": {},
   "outputs": [
    {
     "output_type": "execute_result",
     "data": {
      "text/plain": "   index             City  Latitude  Longitude  Temperature  Humidity  \\\n0     27      Clyde River     70.47     -68.59        16.00        44   \n1     84  Haines Junction     60.75    -137.51        17.63        38   \n2    114           Oxford     51.75      -1.26        18.00        48   \n3    126         Ngunguru    -35.62     174.50         7.22         3   \n4    179          Kokstad    -30.55      29.42        13.81        38   \n\n   Cloudiness  Wind Speed Country        Date  \n0          75        7.20      CA  1594408907  \n1         100        1.74      CA  1594408922  \n2           0        4.60      GB  1594408740  \n3           5        1.34      NZ  1594408932  \n4           0        3.17      ZA  1594408945  ",
      "text/html": "<div>\n<style scoped>\n    .dataframe tbody tr th:only-of-type {\n        vertical-align: middle;\n    }\n\n    .dataframe tbody tr th {\n        vertical-align: top;\n    }\n\n    .dataframe thead th {\n        text-align: right;\n    }\n</style>\n<table border=\"1\" class=\"dataframe\">\n  <thead>\n    <tr style=\"text-align: right;\">\n      <th></th>\n      <th>index</th>\n      <th>City</th>\n      <th>Latitude</th>\n      <th>Longitude</th>\n      <th>Temperature</th>\n      <th>Humidity</th>\n      <th>Cloudiness</th>\n      <th>Wind Speed</th>\n      <th>Country</th>\n      <th>Date</th>\n    </tr>\n  </thead>\n  <tbody>\n    <tr>\n      <th>0</th>\n      <td>27</td>\n      <td>Clyde River</td>\n      <td>70.47</td>\n      <td>-68.59</td>\n      <td>16.00</td>\n      <td>44</td>\n      <td>75</td>\n      <td>7.20</td>\n      <td>CA</td>\n      <td>1594408907</td>\n    </tr>\n    <tr>\n      <th>1</th>\n      <td>84</td>\n      <td>Haines Junction</td>\n      <td>60.75</td>\n      <td>-137.51</td>\n      <td>17.63</td>\n      <td>38</td>\n      <td>100</td>\n      <td>1.74</td>\n      <td>CA</td>\n      <td>1594408922</td>\n    </tr>\n    <tr>\n      <th>2</th>\n      <td>114</td>\n      <td>Oxford</td>\n      <td>51.75</td>\n      <td>-1.26</td>\n      <td>18.00</td>\n      <td>48</td>\n      <td>0</td>\n      <td>4.60</td>\n      <td>GB</td>\n      <td>1594408740</td>\n    </tr>\n    <tr>\n      <th>3</th>\n      <td>126</td>\n      <td>Ngunguru</td>\n      <td>-35.62</td>\n      <td>174.50</td>\n      <td>7.22</td>\n      <td>3</td>\n      <td>5</td>\n      <td>1.34</td>\n      <td>NZ</td>\n      <td>1594408932</td>\n    </tr>\n    <tr>\n      <th>4</th>\n      <td>179</td>\n      <td>Kokstad</td>\n      <td>-30.55</td>\n      <td>29.42</td>\n      <td>13.81</td>\n      <td>38</td>\n      <td>0</td>\n      <td>3.17</td>\n      <td>ZA</td>\n      <td>1594408945</td>\n    </tr>\n  </tbody>\n</table>\n</div>"
     },
     "metadata": {},
     "execution_count": 18
    }
   ],
   "source": [
    "#Narrow down the cities to fit weather conditions.\n",
    "ideal_weather = cities[(cities['Temperature'] <= 20) & (cities['Humidity'] < 50)].reset_index()\n",
    "#Drop any rows will null values.\n",
    "ideal_weather.dropna(inplace = True)\n",
    "\n",
    "ideal_weather.head()"
   ]
  },
  {
   "cell_type": "markdown",
   "metadata": {},
   "source": [
    "### Hotel Map\n",
    "* Store into variable named `hotel_df`.\n",
    "* Add a \"Hotel Name\" column to the DataFrame.\n",
    "* Set parameters to search for hotels with 5000 meters.\n",
    "* Hit the Google Places API for each city's coordinates.\n",
    "* Store the first Hotel result into the DataFrame.\n",
    "* Plot markers on top of the heatmap."
   ]
  },
  {
   "cell_type": "code",
   "execution_count": 19,
   "metadata": {},
   "outputs": [],
   "source": [
    "#Store into variable named hotel_df.\n",
    "hotel_df = ideal_weather\n",
    "\n",
    "#Add a \"Hotel Name\" column to the DataFrame.\n",
    "hotel_df['Hotel Name'] = \"\"\n",
    "hotel_df['Hotel Lat'] = \"\"\n",
    "hotel_df['Hotel Lng'] = \"\"\n",
    "\n",
    "#Set parameters to search for hotels with 5000 meters.\n",
    "radius = 5000"
   ]
  },
  {
   "cell_type": "code",
   "execution_count": 24,
   "metadata": {
    "tags": []
   },
   "outputs": [],
   "source": [
    "#Hit the Google Places API for each city's coordinates.\n",
    "base_url = \"https://maps.googleapis.com/maps/api/place/nearbysearch/json\"\n",
    "\n",
    "# use iterrows to iterate through pandas dataframe\n",
    "for index, row in hotel_df.iterrows():\n",
    "\n",
    "    # get location from df\n",
    "    lat = row['Latitude']\n",
    "    lng = row['Longitude'] \n",
    "    \n",
    "    params = {\n",
    "    \"location\": f'{lat},{lng}',\n",
    "    \"radius\": radius,\n",
    "    \"type\": \"lodging\",\n",
    "    \"key\": g_key,\n",
    "    }\n",
    "\n",
    "    # assemble url and make API request\n",
    "    response = requests.get(base_url, params=params).json()\n",
    "    \n",
    "    # extract results\n",
    "    results = response['results']\n",
    "    \n",
    "    #Store the first Hotel result into the DataFrame.j\n",
    "    try:        \n",
    "        hotel_df.loc[index, 'Hotel Name'] = results[0]['name']\n",
    "        hotel_df.loc[index, 'Hotel Lat'] = results[0]['geometry']['location']['lat']\n",
    "        hotel_df.loc[index, 'Hotel Lng'] = results[0]['geometry']['location']['lng']\n",
    "        \n",
    "    except (KeyError, IndexError):\n",
    "        hotel_df.loc[index, 'Hotel Name'] = 'None found'\n",
    "        pass\n",
    "\n",
    "hotel_df.dropna(inplace = True)"
   ]
  },
  {
   "cell_type": "code",
   "execution_count": 32,
   "metadata": {},
   "outputs": [],
   "source": [
    "#Plot markers on top of the heatmap.\n",
    "gmaps.configure(api_key=g_key)\n",
    "hotel_locations = hotel_df[[\"Hotel Lat\", \"Hotel Lng\"]].astype(float)"
   ]
  },
  {
   "cell_type": "code",
   "execution_count": 33,
   "metadata": {},
   "outputs": [],
   "source": [
    "# NOTE: Do not change any of the code in this cell\n",
    "\n",
    "# Using the template add the hotel marks to the heatmap\n",
    "info_box_template = \"\"\"\n",
    "<dl>\n",
    "<dt>Name</dt><dd>{Hotel Name}</dd>\n",
    "<dt>City</dt><dd>{City}</dd>\n",
    "<dt>Country</dt><dd>{Country}</dd>\n",
    "</dl>\n",
    "\"\"\"\n",
    "# Store the DataFrame Row\n",
    "# NOTE: be sure to update with your DataFrame name\n",
    "hotel_info = [info_box_template.format(**row) for index, row in hotel_df.iterrows()]\n",
    "locations = hotel_df[[\"Hotel Lat\", \"Hotel Lng\"]]"
   ]
  },
  {
   "cell_type": "code",
   "execution_count": 34,
   "metadata": {},
   "outputs": [
    {
     "output_type": "display_data",
     "data": {
      "text/plain": "Figure(layout=FigureLayout(height='420px'))",
      "application/vnd.jupyter.widget-view+json": {
       "version_major": 2,
       "version_minor": 0,
       "model_id": "c8459994350e48ceadf05112a13ef39f"
      }
     },
     "metadata": {}
    }
   ],
   "source": [
    "# Add marker layer ontop of heat map\n",
    "hotel_markers = gmaps.marker_layer(hotel_locations, info_box_content=hotel_info)\n",
    "fig.add_layer(hotel_markers)\n",
    "\n",
    "# Display figure\n",
    "fig"
   ]
  }
 ],
 "metadata": {
  "kernelspec": {
   "display_name": "Python 3.6.10 64-bit ('PythonData': conda)",
   "language": "python",
   "name": "python361064bitpythondataconda992fc1ae3b7c4604b7171c55419ec128"
  },
  "language_info": {
   "codemirror_mode": {
    "name": "ipython",
    "version": 3
   },
   "file_extension": ".py",
   "mimetype": "text/x-python",
   "name": "python",
   "nbconvert_exporter": "python",
   "pygments_lexer": "ipython3",
   "version": "3.6.10-final"
  },
  "latex_envs": {
   "LaTeX_envs_menu_present": true,
   "autoclose": false,
   "autocomplete": true,
   "bibliofile": "biblio.bib",
   "cite_by": "apalike",
   "current_citInitial": 1,
   "eqLabelWithNumbers": true,
   "eqNumInitial": 1,
   "hotkeys": {
    "equation": "Ctrl-E",
    "itemize": "Ctrl-I"
   },
   "labels_anchors": false,
   "latex_user_defs": false,
   "report_style_numbering": false,
   "user_envs_cfg": false
  }
 },
 "nbformat": 4,
 "nbformat_minor": 2
}